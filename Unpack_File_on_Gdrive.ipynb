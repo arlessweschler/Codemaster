{
  "nbformat": 4,
  "nbformat_minor": 0,
  "metadata": {
    "colab": {
      "name": "All in One 1.9.1.ipynb",
      "provenance": [],
      "collapsed_sections": [
        "uGAJFdQNdUcM",
        "Cqy3vXXOMI06",
        "zRTgBdCpBWMh",
        "cOUZEXihsqCD",
        "bNAroQWy6hL3",
        "wZMZjX127rmx",
        "Ov6PHWiF4QuO",
        "ercDPZ6CIlVz",
        "4E-uzYrv5o0B",
        "NkFQ5VDxpteH",
        "JnIOQZ2I-aDT",
        "StT2bKf2WmKj",
        "Ttv0CeCqLX0t",
        "AGVmJ2Y43o_C",
        "7dTNq8TFD6a-",
        "VDInERXVmnm8",
        "PE5J1UDzQXSp",
        "SoxLe8ciEyAc",
        "A0y8bdJSpbmD",
        "WanlireZOjvx",
        "WMWJ2mDPBoEx",
        "6wktcwkWtHH0",
        "xa8RqAm2wozX",
        "n2ZDFNPw9BPE",
        "63bRZrGJEZnI",
        "PGMUhd7sVOY9",
        "fJ7W2Z0gcYa5",
        "3di4eNDqStBp",
        "C2--6Vt2uBIj",
        "cHTe9qp2E6f5",
        "7wez354M4ZeV",
        "kSvUMUuTPX7r",
        "dySANcIIMdFU",
        "ex_k738n2mO3",
        "zajDdD9kKNw9",
        "c3cOMk38t8Zm",
        "nnK31oX-jC5p",
        "eplOxOmrjC7R",
        "boIJhB5zjC76",
        "NKQKbbO5jC8f",
        "ukxnQC4c0nuR",
        "EFOqhHG6hOVH",
        "RDHuIkoi6l9a",
        "NQ0TxfKeghR8",
        "FpJXJiRl6-gK",
        "2f-THZmDoOaY",
        "MSUasbRUDP3B",
        "dHsPVmB0Ot4F",
        "yakbThfRnJr1",
        "SNDGdMRn3PA-",
        "KFcIThDuBii_",
        "8qgQqQyD3kvv",
        "Fj7AI-wW9KKU",
        "GahMjYf8miNs",
        "NqB2mnt78bxA",
        "-4LLBs7U06a5",
        "7-3O4en4C4IL",
        "Ja95mvvq8oei",
        "QlsUJhNwyeV3",
        "SWJ1Dl42VvVt",
        "INCWjTDRLye6",
        "4rMlpsk3jv5r",
        "-9RhonZDwNYC",
        "yL1BRPGVwfbt",
        "1EP1o4UDLS6f",
        "bOOBrzjbEGo_",
        "0xI8WiUPji3k",
        "dJcI3M0oD5bJ",
        "zwnehE_ln7A4",
        "cau5CTZPUu-n",
        "SdrIv5gpjTfw",
        "STq65Y8NlBSX",
        "YKlMJI6CFvzN"
      ],
      "machine_shape": "hm",
      "include_colab_link": true
    },
    "kernelspec": {
      "name": "python3",
      "display_name": "Python 3"
    },
    "accelerator": "GPU"
  },
  "cells": [
    {
      "cell_type": "markdown",
      "metadata": {
        "id": "view-in-github",
        "colab_type": "text"
      },
      "source": [
        "<a href=\"https://colab.research.google.com/github/arlessweschler/Codemaster/blob/master/Unpack_File_on_Gdrive.ipynb\" target=\"_parent\"><img src=\"https://colab.research.google.com/assets/colab-badge.svg\" alt=\"Open In Colab\"/></a>"
      ]
    },
    {
      "cell_type": "markdown",
      "metadata": {
        "colab_type": "text",
        "id": "uGAJFdQNdUcM"
      },
      "source": [
        "# <center><b>Welcome to My Page</b><h5>You can remote upload and download torrent to your <b>Google Drive</b> Here</center></h5>"
      ]
    },
    {
      "cell_type": "markdown",
      "metadata": {
        "id": "Cqy3vXXOMI06",
        "colab_type": "text"
      },
      "source": [
        "# ✦ *Colab Still Alive Console Script:*\n",
        "<p><font size=2px ><font color=\"red\"> Tip - Set a javascript interval to click on the connect button every 60 seconds. Open developer-settings (in your web-browser) with Ctrl+Shift+I then click on console tab and type this on the console prompt. (for mac press Option+Command+I)</font></p><b>Copy script in hidden cell and paste at your browser console !!! DO NOT CLOSE YOUR BROWSER IN ORDER TO STILL RUNNING SCRIPT</b>"
      ]
    },
    {
      "cell_type": "markdown",
      "metadata": {
        "id": "3Z8cK8h2Avbv",
        "colab_type": "text"
      },
      "source": [
        "<code>function ClickConnect(){\n",
        "console.log(\"Working\"); \n",
        "document.querySelector(\"colab-connect-button\").click() \n",
        "}setInterval(ClickConnect,6000)</code>"
      ]
    },
    {
      "cell_type": "markdown",
      "metadata": {
        "colab_type": "text",
        "id": "zRTgBdCpBWMh"
      },
      "source": [
        "# ✦ *Quick Useful Scripts:*"
      ]
    },
    {
      "cell_type": "markdown",
      "metadata": {
        "id": "cOUZEXihsqCD",
        "colab_type": "text"
      },
      "source": [
        "## ✧ MediaInfo"
      ]
    },
    {
      "cell_type": "code",
      "metadata": {
        "id": "NTULRguzu0b0",
        "colab_type": "code",
        "cellView": "form",
        "colab": {}
      },
      "source": [
        "path = \"\" #@param {type:\"string\"}\n",
        "save_txt = False #@param {type:\"boolean\"}\n",
        "import os, uuid, re, IPython\n",
        "import ipywidgets as widgets\n",
        "import time\n",
        "\n",
        "from glob import glob\n",
        "from IPython.display import HTML, clear_output\n",
        "from google.colab import output, drive\n",
        "\n",
        "def mediainfo():\n",
        "  display(HTML(\"<br>\"))\n",
        "#   print(path.split(\"/\")[::-1][0])\n",
        "  display(HTML(\"<br>\"))\n",
        "#   media = !mediainfo \"$path\"\n",
        "#   media = \"\\n\".join(media).replace(os.path.dirname(path)+\"/\", \"\")\n",
        "  get_ipython().system_raw(\"\"\"mediainfo --LogFile=\"/root/.nfo\" \"$path\" \"\"\")\n",
        "  with open('/root/.nfo', 'r') as file:\n",
        "    media = file.read()\n",
        "    media = media.replace(os.path.dirname(path)+\"/\", \"\")\n",
        "  print(media)\n",
        "  get_ipython().system_raw(\"rm -f '/root/.nfo'\")\n",
        "  \n",
        "  if save_txt:\n",
        "    txt = path.rpartition('.')[0] + \".txt\"\n",
        "    if os.path.exists(txt):\n",
        "      get_ipython().system_raw(\"rm -f '$txt'\")\n",
        "    !curl -s https://pastebin.com/raw/TApKLQfM -o \"$txt\"\n",
        "    with open(txt, 'a+') as file:\n",
        "      file.write(\"\\n\\n\")\n",
        "      file.write(media)\n",
        "\n",
        "while not os.path.exists(\"/content/drive\"):\n",
        "  try:\n",
        "    drive.mount(\"/content/drive\")\n",
        "    clear_output(wait=True)\n",
        "  except:\n",
        "    clear_output()\n",
        "    \n",
        "if not os.path.exists(\"/usr/bin/mediainfo\"):\n",
        "  get_ipython().system_raw(\"apt-get install mediainfo\")\n",
        "  \n",
        "mediainfo()"
      ],
      "execution_count": null,
      "outputs": []
    },
    {
      "cell_type": "markdown",
      "metadata": {
        "id": "bNAroQWy6hL3",
        "colab_type": "text"
      },
      "source": [
        "## ✧ Generate Streamable Video Links from Google Drive\n",
        "##### *Note: This cell will only work with links that are shared publically*"
      ]
    },
    {
      "cell_type": "code",
      "metadata": {
        "colab_type": "code",
        "cellView": "form",
        "id": "W4EXnKHuwmq0",
        "colab": {}
      },
      "source": [
        "import re\n",
        "\n",
        "shared_file_link = \"\" #@param {type:\"string\"}\n",
        "result = re.search(\"[\\w-]{33}\", shared_file_link)\n",
        "your_api_key = \"\" #@param {type:\"string\"}\n",
        "drive_file_id = result.group(0)\n",
        "\n",
        "beg_url = \"https://www.googleapis.com/drive/v3/files/\"\n",
        "end_url = \"/?key=\" + your_api_key + \"&alt=media\"\n",
        "\n",
        "print(beg_url + drive_file_id + end_url)\n",
        "\n",
        "## *This cell will only work with links that are shared publically*"
      ],
      "execution_count": null,
      "outputs": []
    },
    {
      "cell_type": "markdown",
      "metadata": {
        "colab_type": "text",
        "id": "ercDPZ6CIlVz"
      },
      "source": [
        "# <img src=\"https://upload.wikimedia.org/wikipedia/commons/thumb/d/da/Google_Drive_logo.png/600px-Google_Drive_logo.png\" height=30px>      ___Mount / Unmount Gdrive!___"
      ]
    },
    {
      "cell_type": "code",
      "metadata": {
        "colab_type": "code",
        "cellView": "form",
        "id": "U2avD1zRIlWA",
        "colab": {}
      },
      "source": [
        "#@markdown <br><center><img src='https://upload.wikimedia.org/wikipedia/commons/thumb/d/da/Google_Drive_logo.png/600px-Google_Drive_logo.png' height=\"50\" alt=\"Gdrive logo\"/></center>\n",
        "#@markdown <center><h3>Mount Gdrive to /content/drive</h3></center><br>\n",
        "MODE = \"MOUNT\" #@param [\"MOUNT\", \"UNMOUNT\"]\n",
        "#Mount your Gdrive! \n",
        "from google.colab import drive\n",
        "drive.mount._DEBUG = False\n",
        "if MODE == \"MOUNT\":\n",
        "  drive.mount('/content/drive', force_remount=True)\n",
        "elif MODE == \"UNMOUNT\":\n",
        "  try:\n",
        "    drive.flush_and_unmount()\n",
        "  except ValueError:\n",
        "    pass\n",
        "  get_ipython().system_raw(\"rm -rf /root/.config/Google/DriveFS\")"
      ],
      "execution_count": null,
      "outputs": []
    },
    {
      "cell_type": "code",
      "metadata": {
        "id": "IsQPA4qZD4hK",
        "colab_type": "code",
        "cellView": "form",
        "colab": {}
      },
      "source": [
        "#@markdown <h4><b>←</b> ឵឵Click Here to <b>Force Remount</b> your Google Drive</h4>\n",
        "#@markdown <h5><i>(Only use if needed)</i></h5>\n",
        "drive.mount(\"/content/drive\", force_remount=True)"
      ],
      "execution_count": null,
      "outputs": []
    },
    {
      "cell_type": "markdown",
      "metadata": {
        "colab_type": "text",
        "id": "dySANcIIMdFU"
      },
      "source": [
        "# <center><b>Special Features</b><h5>Zipping, Encoding, Cloning, Free Vps</center></h5>"
      ]
    },
    {
      "cell_type": "markdown",
      "metadata": {
        "colab_type": "text",
        "id": "zajDdD9kKNw9"
      },
      "source": [
        "##<img src='https://yuju.pw/y/qUkg.png' height=\"65\" alt=\"7zip\"><i>__7-Zip + UNRAR__</i>"
      ]
    },
    {
      "cell_type": "code",
      "metadata": {
        "colab_type": "code",
        "cellView": "both",
        "id": "3fMs7cVkKNxA",
        "colab": {}
      },
      "source": [
        "#@markdown <h3><b>←</b> <i>Required:</i> Install 7-Zip + UNRAR\n",
        "!sudo apt update\n",
        "!sudo apt install p7zip-full p7zip-rar unrar rar"
      ],
      "execution_count": null,
      "outputs": []
    },
    {
      "cell_type": "code",
      "metadata": {
        "colab_type": "code",
        "cellView": "form",
        "id": "BYmG1ZmqKNxM",
        "colab": {}
      },
      "source": [
        "#@markdown <h3>» Run to change current working directory\n",
        "import os\n",
        "new_dir = \"\" #@param {type:\"string\"}\n",
        "\n",
        "%cd \"$new_dir\""
      ],
      "execution_count": null,
      "outputs": []
    },
    {
      "cell_type": "code",
      "metadata": {
        "colab_type": "code",
        "cellView": "form",
        "id": "zuaySeQuKNxV",
        "colab": {}
      },
      "source": [
        "#@title » Extract Archive (<i>.zip, .rar, .7z, etc.</i>)\n",
        "import os, sys, re\n",
        " \n",
        "archive_file_path = \"\" #@param {type:\"string\"}\n",
        "os.environ['inputFile'] = archive_file_path\n",
        " \n",
        "!7z e \"$inputFile\""
      ],
      "execution_count": null,
      "outputs": []
    },
    {
      "cell_type": "code",
      "metadata": {
        "colab_type": "code",
        "cellView": "form",
        "id": "EJKWr_UwKNxj",
        "colab": {}
      },
      "source": [
        "#@title » Create .zip .7z from Folder\n",
        "import os, sys, re\n",
        " \n",
        "folder_path = \"\" #@param {type:\"string\"}\n",
        "archiving_method = 'zip' #@param [\"zip\", \"7z\" ]\n",
        " \n",
        "output_file_path = re.search(\"^[\\/].+\\/\", folder_path)\n",
        "output_file_path_raw = output_file_path.group(0)\n",
        "delsplit = re.search(\"\\/(?:.(?!\\/))+$\", folder_path)\n",
        "folder_name = re.sub(\"^[\\/]\", \"\", delsplit.group(0))\n",
        " \n",
        "os.environ['inputDir'] = folder_path\n",
        "os.environ['outputPath'] = output_file_path_raw\n",
        "os.environ['folderName'] = folder_name\n",
        " \n",
        "if archiving_method == 'zip':\n",
        "   !7z a -tzip \"$outputPath\"/\"$folderName\".zip \"$inputDir\"\n",
        " \n",
        "if archiving_method == '7z':\n",
        "   !7z a -t7z -m0=lzma -mx=9 -mfb=258 -md=32m -ms=on \"$outputPath\"/\"$folderName\".7z \"$inputDir\""
      ],
      "execution_count": null,
      "outputs": []
    },
    {
      "cell_type": "markdown",
      "metadata": {
        "id": "c3cOMk38t8Zm",
        "colab_type": "text"
      },
      "source": [
        "## <img src='https://raw.githubusercontent.com/biplobsd/Google-Colab-CloudTorrent/master/src/zip.png' height=\"30\" alt=\"netdata\"> __Extracte/Archive Zip/Tar/Rar__"
      ]
    },
    {
      "cell_type": "code",
      "metadata": {
        "id": "aK-ly9_92Chr",
        "colab_type": "code",
        "cellView": "form",
        "colab": {}
      },
      "source": [
        "# ============================= FORM ============================= #\n",
        "# @markdown #### ⬅️ Extract Files\n",
        "MODE = \"UNZIP\"  # @param [\"UNZIP\", \"UNTAR\", \"UNRAR\", \"7Z\"]\n",
        "PATH_TO_FILE = \"\"  # @param {type:\"string\"}\n",
        "extractPath = \"\"  # @param {type:\"string\"}\n",
        "ARCHIVE_PASSWORD = \"\" #@param {type:\"string\"}\n",
        "\n",
        "# ================================================================ #\n",
        "import os, urllib.request\n",
        "HOME = os.path.expanduser(\"~\")\n",
        "\n",
        "if not os.path.exists(f\"{HOME}/.ipython/ttmg.py\"):\n",
        "    hCode = \"https://raw.githubusercontent.com/biplobsd/\" \\\n",
        "                \"Google-Colab-CloudTorrent/master/res/ttmg.py\"\n",
        "    urllib.request.urlretrieve(hCode, f\"{HOME}/.ipython/ttmg.py\")\n",
        "\n",
        "from ttmg import (\n",
        "    runSh,\n",
        "    checkAvailable,\n",
        ")\n",
        "\n",
        "def extractFiles():\n",
        "    global extractPath\n",
        "    if ARCHIVE_PASSWORD:\n",
        "      passADD = f'-P {ARCHIVE_PASSWORD}'\n",
        "    else:\n",
        "      passADD = ''\n",
        "    if not extractPath:\n",
        "      extractPath = \"/content/extract\"\n",
        "    os.makedirs(extractPath, exist_ok=True)\n",
        "    if MODE == \"UNZIP\":\n",
        "        runSh('unzip '+passADD+f' \"{PATH_TO_FILE}\" -d \"{extractPath}\"', output=True)\n",
        "    elif MODE == \"UNRAR\":\n",
        "        runSh(f'unrar x \"{PATH_TO_FILE}\" \"{extractPath}\" '+passADD+' -o+', output=True)\n",
        "    elif MODE == \"UNTAR\":\n",
        "        runSh(f'tar -C \"{extractPath}\" -xvf \"{PATH_TO_FILE}\"', output=True)\n",
        "    else:\n",
        "        runSh(f'7z x \"{PATH_TO_FILE}\" -o{extractPath} '+passADD, output=True)\n",
        "\n",
        "\n",
        "extractFiles()"
      ],
      "execution_count": null,
      "outputs": []
    },
    {
      "cell_type": "code",
      "metadata": {
        "id": "OyIeKHClum9J",
        "colab_type": "code",
        "cellView": "form",
        "colab": {}
      },
      "source": [
        "# ============================= FORM ============================= #\n",
        "# @markdown #### ⬅️ Archive Files\n",
        "MODE = \"7Z\" #@param [\"ZIP\", \"TAR\", \"7Z\"]\n",
        "FILENAME = \"\"  # @param {type:\"string\"}\n",
        "PATH_TO_FILE = \"\"  # @param {type:\"string\"}\n",
        "ARCHIVE_PASSWORD = \"\" #@param {type:\"string\"}\n",
        " \n",
        "# ================================================================ #\n",
        "import os, urllib.request\n",
        "HOME = os.path.expanduser(\"~\")\n",
        " \n",
        "if not os.path.exists(f\"{HOME}/.ipython/ttmg.py\"):\n",
        "    hCode = \"https://raw.githubusercontent.com/biplobsd/\" \\\n",
        "                \"Google-Colab-CloudTorrent/master/res/ttmg.py\"\n",
        "    urllib.request.urlretrieve(hCode, f\"{HOME}/.ipython/ttmg.py\")\n",
        " \n",
        "from ttmg import (\n",
        "    runSh,\n",
        "    checkAvailable,\n",
        ")\n",
        " \n",
        "def extractFiles():\n",
        "    global FILENAME\n",
        "    if MODE == \"ZIP\":\n",
        "        if not FILENAME:\n",
        "          FILENAME = \"/content/NEW_FILE.ZIP\"\n",
        "        if ARCHIVE_PASSWORD:\n",
        "          passADD = f'--password \"{ARCHIVE_PASSWORD}\"'\n",
        "        else:\n",
        "          passADD = ''\n",
        "        runSh(f'zip {passADD} -r \"{FILENAME}\" \"{PATH_TO_FILE}\"', output=True)\n",
        "    elif MODE == \"TAR\":\n",
        "        if not FILENAME:\n",
        "          FILENAME = \"NEW_FILE\"\n",
        "        runSh(f'tar -zcvf \"{FILENAME}.tar.gz\" {PATH_TO_FILE}', output=True)\n",
        "    else:\n",
        "        if not FILENAME:\n",
        "            FILENAME = \"NEW_FILE\"\n",
        "        runSh(f'7z a \"{FILENAME}.7z\" {PATH_TO_FILE}', output=True)\n",
        " \n",
        " \n",
        "extractFiles()"
      ],
      "execution_count": null,
      "outputs": []
    }
  ]
}